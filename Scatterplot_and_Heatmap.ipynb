{
 "cells": [
  {
   "cell_type": "code",
   "execution_count": null,
   "metadata": {},
   "outputs": [],
   "source": [
    "from sklearn.datasets import load_iris\n",
    "import pandas as pd\n",
    "\n",
    "# Load the Iris dataset\n",
    "iris = load_iris()\n",
    "\n",
    "# Create a DataFrame for easier analysis\n",
    "iris_df = pd.DataFrame(iris.data, columns=iris.feature_names)\n",
    "\n",
    "# Extract sepal length and petal length\n",
    "sepal_length = iris_df['sepal length (cm)']\n",
    "petal_length = iris_df['petal length (cm)']\n",
    "\n",
    "# Generate the scatterplot\n",
    "plt.figure(figsize=(8, 6))\n",
    "plt.scatter(sepal_length, petal_length, c=iris.target, cmap='viridis')\n",
    "\n",
    "# Add labels and title\n",
    "plt.xlabel('Sepal Length (cm)')\n",
    "plt.ylabel('Petal Length (cm)')\n",
    "plt.title('Scatterplot of Iris Dataset: Sepal Length vs Petal Length')\n",
    "\n",
    "# Add legend for species\n",
    "plt.legend(iris.target_names)\n",
    "\n",
    "# Display the plot\n",
    "plt.show()\n"
   ]
  },
  {
   "cell_type": "code",
   "execution_count": null,
   "metadata": {},
   "outputs": [],
   "source": []
  }
 ],
 "metadata": {
  "kernelspec": {
   "display_name": "Python 3",
   "language": "python",
   "name": "python3"
  },
  "language_info": {
   "codemirror_mode": {
    "name": "ipython",
    "version": 3
   },
   "file_extension": ".py",
   "mimetype": "text/x-python",
   "name": "python",
   "nbconvert_exporter": "python",
   "pygments_lexer": "ipython3",
   "version": "3.8.5"
  }
 },
 "nbformat": 4,
 "nbformat_minor": 4
}
