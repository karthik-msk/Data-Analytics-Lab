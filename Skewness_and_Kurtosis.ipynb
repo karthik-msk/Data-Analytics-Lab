{
 "cells": [
  {
   "cell_type": "code",
   "execution_count": 1,
   "metadata": {},
   "outputs": [
    {
     "name": "stdout",
     "output_type": "stream",
     "text": [
      "Skewness of SepalLengthCm: 0.3117530585022963\n",
      "Skewness of SepalWidthCm: 0.330702812773315\n",
      "Skewness of PetalLengthCm: -0.2717119501716388\n",
      "Skewness of PetalWidthCm: -0.10394366626751729\n"
     ]
    }
   ],
   "source": [
    "import numpy as np\n",
    "import pandas as pd\n",
    "from scipy.stats import skew\n",
    "\n",
    "# Load Iris dataset\n",
    "iris = pd.read_csv(\"iris_dataset.csv\")\n",
    "\n",
    "# Extract the feature columns for which you want to calculate skewness\n",
    "feature_columns = ['SepalLengthCm', 'SepalWidthCm', 'PetalLengthCm', 'PetalWidthCm']\n",
    "\n",
    "# Calculate skewness for each feature\n",
    "for feature in feature_columns:\n",
    "    skewness = skew(iris[feature])\n",
    "    print(f\"Skewness of {feature}: {skewness}\")\n"
   ]
  },
  {
   "cell_type": "code",
   "execution_count": 5,
   "metadata": {},
   "outputs": [
    {
     "name": "stdout",
     "output_type": "stream",
     "text": [
      "Kurtosis for each feature:\n",
      "sepal length (cm)   -0.552064\n",
      "sepal width (cm)     0.228249\n",
      "petal length (cm)   -1.402103\n",
      "petal width (cm)    -1.340604\n",
      "dtype: float64\n"
     ]
    }
   ],
   "source": [
    "import pandas as pd\n",
    "from scipy.stats import kurtosis\n",
    "from sklearn.datasets import load_iris\n",
    "\n",
    "# Load Iris dataset\n",
    "iris = load_iris()\n",
    "X = iris.data\n",
    "\n",
    "# Create a DataFrame for easier analysis\n",
    "iris_df = pd.DataFrame(X, columns=iris.feature_names)\n",
    "\n",
    "# Calculate kurtosis for each feature\n",
    "iris_kurtosis = iris_df.kurtosis()\n",
    "\n",
    "# Display kurtosis for each feature\n",
    "print(\"Kurtosis for each feature:\")\n",
    "print(iris_kurtosis)\n"
   ]
  },
  {
   "cell_type": "code",
   "execution_count": null,
   "metadata": {},
   "outputs": [],
   "source": []
  }
 ],
 "metadata": {
  "kernelspec": {
   "display_name": "Python 3",
   "language": "python",
   "name": "python3"
  },
  "language_info": {
   "codemirror_mode": {
    "name": "ipython",
    "version": 3
   },
   "file_extension": ".py",
   "mimetype": "text/x-python",
   "name": "python",
   "nbconvert_exporter": "python",
   "pygments_lexer": "ipython3",
   "version": "3.8.5"
  }
 },
 "nbformat": 4,
 "nbformat_minor": 4
}
